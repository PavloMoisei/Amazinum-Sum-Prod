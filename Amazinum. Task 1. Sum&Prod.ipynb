{
 "cells": [
  {
   "cell_type": "markdown",
   "id": "31c44214",
   "metadata": {},
   "source": [
    "#### Amazinum. Sum&Prod. Moisei"
   ]
  },
  {
   "cell_type": "markdown",
   "id": "3f41e481",
   "metadata": {},
   "source": [
    "#### There are two whole numbers: 1 < a, b < 100.\n",
    "\n",
    "One scientist(\"Sum\") get provided with sum of numbers,\n",
    "another  (\"Prod\") get provided with product of numbers. \n",
    "Both scientists know that numbers 1 < a,b <100.\n",
    "\n",
    "#### Determine the numbers being based on the following dialog: \n",
    "   \n",
    "   Prod: I don't know the numbers;\n",
    "    \n",
    "   Sum: I know it;\n",
    "   \n",
    "   Prod: then I know the numbers; \n",
    "   \n",
    "   Sum: then I know the numbers too."
   ]
  },
  {
   "cell_type": "markdown",
   "id": "b64e60f0",
   "metadata": {},
   "source": [
    "#### Перевірка вручну чисел на виконання умов:"
   ]
  },
  {
   "cell_type": "markdown",
   "id": "f8ce2432",
   "metadata": {},
   "source": [
    "##### Prod, Коли є більше 2х множників:\n",
    "I don't know the numbers: 12 (3 * 4, 2 * 6), 16 (4 * 4, 2 * 8), 18 (2 * 9, 3 * 6), 20 (2 * 10, 4 * 5), 24 (2 * 12, 3 * 8), 28 (2 * 14, 4 * 7), 30 (2 * 15, 3 * 10, 5 * 6), 32 (2 * 16, 4 * 8), 36 (3 * 12, 2 * 18, 4 * 9, 6 * 6), 40 (2 * 20, 4 * 10, 5 * 8), 42 (2 * 21, 3 * 14, 6 * 7), 44 (2 * 22, 4 * 11), 45 (3 * 15, 5 * 9), 48 (2 * 24, 3 * 16, 4 * 12, 6 * 8), 50 (2 * 25, 5 * 10), 52 (2 * 26, 4 * 13), 54 (2 * 27, 3 * 18, 6 * 9), 56 (2 * 28, 4 * 14, 7 * 8), 60 (2 * 30, 3 * 20, 4 * 15), 63 (3 * 21, 7 * 9), 64 (2 * 32, 4 * 16, 8 * 8), 66 (2 * 33, 3 * 22, 6 * 11), 68 (2 * 34, 4 * 17), 70 (2 * 35, 7 * 10), 72 (2 * 36, 3 * 24, 4 * 18, 6 * 12), 75(3 * 25, 5 * 15), 76 (2 * 38, 4 * 19), 78 (2 * 39, 3 * 26, 6 * 13), 80 (2 * 40, 4 * 20, 8 * 10), 81(3 * 27, 9 * 9), 84 (2 * 42, 3 * 28, 4 * 21, 6 * 14, 7 * 12), 88 (2 * 44, 4 * 22, 8 * 11), 90 (2 * 45, 3 * 30, 6 * 15, 9 * 10), 92 (2 * 46, 4 * 23), 96 (2 * 48, 3 * 32, 4 * 24, 6 * 16), 98 (2 * 49, 7 * 14)."
   ]
  },
  {
   "cell_type": "markdown",
   "id": "b4450a3f",
   "metadata": {},
   "source": [
    "##### Sum, кола сума чисел, при їх множенні, дадуть числа із попередньої умови:\n",
    "I know it: 7(2+5,3+4,4+3,5+2), 8(2+6,3+5,4+4,5+3,6+2), 9(2+7,3+6,4+5,5+4,6+3,7+2), 10(2+8,3+7,4+6,5+5,6+4,7+3,8+2), 11(2+9,3+8,4+7,5+6,6+5,7+4,8+3,9+2), 12(2+10,3+9,4+8,5+7,6+6,7+5,8+4,9+3,10+2), 13(2+11,3+10,4+9,5+8,6+7,7+6,8+5,9+4,10+3,11+2), 14(2+12,3+11,4+10,5+9,6+8,7+7,8+6,9+5,10+4,11+3,12+2), 15(2+13,3+12,4+11,5+10,6+9,7+8,8+7,9+6,10+5,11+4,12+3,13+2),\n",
    "\n",
    "Кінцеве: 51(2+49).\n",
    "\n",
    "Перевірка: 39, 43, 45, 49 - не підходить. Тоді правильно - від 7 до 38 включно, далі 40, 41, 42, 44, 46, 47, 50, 51."
   ]
  },
  {
   "cell_type": "markdown",
   "id": "6a52466a",
   "metadata": {},
   "source": [
    "##### Prod, це числа, в яких є один множник, та які не збігаються із першою умовою, коли множників більше 2х:\n",
    "then I know the numbers: 4, 6, 8, 10, 14, 15, 21, 22, 25, 26, 27, 33, 35, 38, 41, 46, 47, 51."
   ]
  },
  {
   "cell_type": "markdown",
   "id": "75f39771",
   "metadata": {},
   "source": [
    "##### Sum, коли сума чисел, при їх множенні, дадуть числа із попередньої умови:\n",
    "then I know the numbers too: 4(2+2), 5(2+3,3+2), 6(2+4,3+3,4+2), 7(2+5,3+4,4+3,5+2), 8(2+6,3+5,4+4,5+3,6+2), 9(2+7,3+6,4+5,5+4,6+3,7+2), 10(2+8,3+7,4+6,5+5,6+4,7+3,8+2), 12(2+10,3+9,4+8,5+7,6+6,7+5,8+4,9+3,10+2), 13(2+11,3+10,4+9,5+8,6+7,7+6,8+5,9+4,10+3,11+2), 14(2+12,3+11,4+10,5+9,6+8,7+7,8+6,9+5,10+4,11+3,12+2), 15(2+13,3+12,4+11,5+10,6+9,7+8,8+7,9+6,10+5,11+4,12+3,13+2),\n",
    "20(3+17), 21(2+19), 25(2+23).\n",
    "\n",
    "Аби попередня умова працювала, тоді правильні числа: 4, 5, 6, 7, 8, 9, 10, 13, 14, 15, 21, 25."
   ]
  },
  {
   "cell_type": "markdown",
   "id": "2f1f4277",
   "metadata": {},
   "source": [
    "#### Закодувати, аби все виконувалось автоматично, чи за якоюсь формулою, не зміг."
   ]
  },
  {
   "cell_type": "code",
   "execution_count": 1,
   "id": "7d72c5a6",
   "metadata": {},
   "outputs": [
    {
     "name": "stdout",
     "output_type": "stream",
     "text": [
      "All numbers : [ 2  3  4  5  6  7  8  9 10 11 12 13 14 15 16 17 18 19 20 21 22 23 24 25\n",
      " 26 27 28 29 30 31 32 33 34 35 36 37 38 39 40 41 42 43 44 45 46 47 48 49\n",
      " 50 51 52 53 54 55 56 57 58 59 60 61 62 63 64 65 66 67 68 69 70 71 72 73\n",
      " 74 75 76 77 78 79 80 81 82 83 84 85 86 87 88 89 90 91 92 93 94 95 96 97\n",
      " 98 99] \n",
      "\n",
      "Prod: I don't know the numbers : [12, 16, 18, 20, 24, 28, 30, 32, 36, 40, 42, 44, 45, 48, 50, 52, 54, 56, 60, 63, 64, 66, 68, 70, 72, 75, 76, 78, 80, 81, 84, 88, 90, 92, 96, 98] \n",
      "\n",
      "Sum: I know it : [7, 8, 9, 10, 11, 12, 13, 14, 15, 16, 17, 18, 19, 20, 21, 22, 23, 24, 25, 26, 27, 28, 29, 30, 31, 32, 33, 34, 35, 36, 37, 38, 40, 41, 42, 44, 46, 47, 50, 51] \n",
      "\n",
      "Prod: Then I know the numbers : [4, 6, 8, 10, 14, 15, 21, 22, 25, 26, 27, 33, 35, 38, 41, 46, 47, 51] \n",
      "\n",
      "Sum: Then I know the numbers too : [4, 5, 6, 7, 8, 9, 10, 13, 14, 15, 21, 25]\n"
     ]
    }
   ],
   "source": [
    "import numpy as np\n",
    "\n",
    "# Initializing lists\n",
    "all_numbers = np.arange(2,100)\n",
    "\n",
    "first_number = [1]\n",
    "\n",
    "last_number = [100]\n",
    "\n",
    "numbers_prod_idk = list([12,16,18,20,24,28,30,32,36,40,\n",
    "                         42,44,45,48,50,52,54,56,60,63,\n",
    "                         64,66,68,70,72,75,76,78,80,81,\n",
    "                         84,88,90,92,96,98\n",
    "                        ])\n",
    "\n",
    "\n",
    "numbers_sum_ik = list([7,8,9,10,11,12,13,14,15,16,\n",
    "                       17,18,19,20,21,22,23,24,25,\n",
    "                       26,27,28,29,30,31,32,33,34,\n",
    "                       35,36,37,38,40,41,42,44,46,\n",
    "                       47,50,51\n",
    "                      ])\n",
    "\n",
    "\n",
    "numbers_prod_ik = list([4,6,8,10,14,15,21,22,25,26,27,33,\n",
    "                        35,38,41,46,47,51])\n",
    "\n",
    "\n",
    "numbers_sum_ikt = list([4,5,6,7,8,9,10,13,14,15,21,25])\n",
    "\n",
    " \n",
    "# Checking if numbers 1 and 100 exists in lists\n",
    "def final_result():\n",
    "    if first_number not in numbers_prod_idk or last_number not in numbers_prod_idk:\n",
    "        if first_number not in numbers_sum_ik or last_number not in numbers_sum_ik:\n",
    "            if first_number not in numbers_prod_ik or last_number not in numbers_prod_ik:\n",
    "                if first_number not in numbers_sum_ikt or last_number not in numbers_sum_ikt:\n",
    "                    print(\"Prod: I don't know the numbers :\",numbers_prod_idk,\"\\n\")\n",
    "                    print(\"Sum: I know it :\",numbers_sum_ik,\"\\n\")\n",
    "                    print(\"Prod: Then I know the numbers :\",numbers_prod_ik,\"\\n\")\n",
    "                    print(\"Sum: Then I know the numbers too :\",numbers_sum_ikt)\n",
    "                    \n",
    "print(\"All numbers :\",all_numbers,\"\\n\")        \n",
    "final_result()"
   ]
  }
 ],
 "metadata": {
  "kernelspec": {
   "display_name": "Python 3 (ipykernel)",
   "language": "python",
   "name": "python3"
  },
  "language_info": {
   "codemirror_mode": {
    "name": "ipython",
    "version": 3
   },
   "file_extension": ".py",
   "mimetype": "text/x-python",
   "name": "python",
   "nbconvert_exporter": "python",
   "pygments_lexer": "ipython3",
   "version": "3.7.1"
  }
 },
 "nbformat": 4,
 "nbformat_minor": 5
}
