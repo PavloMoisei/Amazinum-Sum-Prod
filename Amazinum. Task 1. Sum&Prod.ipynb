{
 "cells": [
  {
   "cell_type": "markdown",
   "id": "31c44214",
   "metadata": {},
   "source": [
    "#### Amazinum. Sum&Prod. Moisei"
   ]
  },
  {
   "cell_type": "markdown",
   "id": "3f41e481",
   "metadata": {},
   "source": [
    "#### There are two whole numbers: 1 < a, b < 100.\n",
    "\n",
    "One scientist(\"Sum\") get provided with sum of numbers,\n",
    "another  (\"Prod\") get provided with product of numbers. \n",
    "Both scientists know that numbers 1 < a,b <100.\n",
    "\n",
    "#### Determine the numbers being based on the following dialog: \n",
    "   \n",
    "   Prod: I don't know the numbers;\n",
    "    \n",
    "   Sum: I know it;\n",
    "   \n",
    "   Prod: then I know the numbers; \n",
    "   \n",
    "   Sum: then I know the numbers too."
   ]
  },
  {
   "cell_type": "markdown",
   "id": "b64e60f0",
   "metadata": {},
   "source": [
    "#### Перевірка вручну чисел на виконання умов:"
   ]
  },
  {
   "cell_type": "markdown",
   "id": "f8ce2432",
   "metadata": {},
   "source": [
    "##### Умова 1: \n",
    "\n",
    "##### Prod, Коли є більше 2х множників:\n",
    "I don't know the numbers: 12 (3 * 4, 2 * 6), 16 (4 * 4, 2 * 8), 18 (2 * 9, 3 * 6), 20 (2 * 10, 4 * 5), 24 (2 * 12, 3 * 8), 28 (2 * 14, 4 * 7), 30 (2 * 15, 3 * 10, 5 * 6), 32 (2 * 16, 4 * 8), 36 (3 * 12, 2 * 18, 4 * 9, 6 * 6), 40 (2 * 20, 4 * 10, 5 * 8), 42 (2 * 21, 3 * 14, 6 * 7), 44 (2 * 22, 4 * 11), 45 (3 * 15, 5 * 9), 48 (2 * 24, 3 * 16, 4 * 12, 6 * 8), 50 (2 * 25, 5 * 10), 52 (2 * 26, 4 * 13), 54 (2 * 27, 3 * 18, 6 * 9), 56 (2 * 28, 4 * 14, 7 * 8), 60 (2 * 30, 3 * 20, 4 * 15), 63 (3 * 21, 7 * 9), 64 (2 * 32, 4 * 16, 8 * 8), 66 (2 * 33, 3 * 22, 6 * 11), 68 (2 * 34, 4 * 17), 70 (2 * 35, 7 * 10), 72 (2 * 36, 3 * 24, 4 * 18, 6 * 12), 75(3 * 25, 5 * 15), 76 (2 * 38, 4 * 19), 78 (2 * 39, 3 * 26, 6 * 13), 80 (2 * 40, 4 * 20, 8 * 10), 81(3 * 27, 9 * 9), 84 (2 * 42, 3 * 28, 4 * 21, 6 * 14, 7 * 12), 88 (2 * 44, 4 * 22, 8 * 11), 90 (2 * 45, 3 * 30, 6 * 15, 9 * 10), 92 (2 * 46, 4 * 23), 96 (2 * 48, 3 * 32, 4 * 24, 6 * 16), 98 (2 * 49, 7 * 14)."
   ]
  },
  {
   "cell_type": "markdown",
   "id": "b4450a3f",
   "metadata": {},
   "source": [
    "##### Умова 2:\n",
    "\n",
    "##### Sum, кола сума чисел, при їх множенні, дадуть числа із попередньої умови, та які задовільняють Prod.\n",
    "\n",
    "Sum: I know it: 11(2+9,3+8,4+7,5+6,6+5,7+4,8+3,9+2), 17(2+15,3+14,4+13,5+12,6+11,7+10,8+9,9+8,10+7,11+6,12+5,13+4,14+3,15+2)."
   ]
  },
  {
   "cell_type": "markdown",
   "id": "6a52466a",
   "metadata": {},
   "source": [
    "##### Умова 3:\n",
    "\n",
    "##### Prod, це добуток суми чисел 11 та 17. Це числа, як добутки з тих чисел, що відомі. Ну а вже з цих чисел науковець Sum взнає всі числа, врахувавши всі умови.\n",
    "\n",
    "Prod: then I know the numbers: 18, 24, 28, 30, 42, 52, 60, 66, 70, 72."
   ]
  },
  {
   "cell_type": "markdown",
   "id": "75f39771",
   "metadata": {},
   "source": [
    "##### Умова 4:\n",
    "\n",
    "##### Sum - числа, в яких множники би дали числа із умови 3, та які відповідно дадуть відповідь науковцям Prod та Sum, які знатимуть числа, які відповідають умові 1 < a, b < 100 та обходять їхні умови, коли вони не знали справжні числа.\n",
    "\n",
    "\n",
    "Можливі числа: 11(2+9,3+8,4+7,5+6,6+5,7+4,8+3,9+2), 14(2+12,3+11,4+10,5+9,6+8,7+7,8+6,9+5,10+4,11+3,12+2), 16(2+14), 17(2+15), 23(2+21), 28(2+26), 32(2+30), 35(2+33), 37(2+35), 38(2+36).\n",
    "\n",
    "Перевірка чисел: 14(2 * 7, 7 * 2), 16(2* 8, 4 * 4, 8 * 2), 28(2 * 14, 4 * 7, 7 * 4, 14 * 2), 32(2 * 16, 4 * 8, 8 * 4, 16 * 2),  35(5 * 7, 7 * 5), 38(2 * 19, 19 * 2).\n",
    "\n",
    "Не підходить: 11,17,23,37 бо в цих числах множник менше 1(11 * 1 = 11). Та числа: 16,28,32 згідно 1ї умови.\n",
    "\n",
    "Sum: then I know the numbers too: 14,35,38."
   ]
  },
  {
   "cell_type": "markdown",
   "id": "2f1f4277",
   "metadata": {},
   "source": [
    "#### Закодувати, аби все виконувалось автоматично, чи за якоюсь формулою, не зміг."
   ]
  },
  {
   "cell_type": "code",
   "execution_count": 1,
   "id": "7d72c5a6",
   "metadata": {},
   "outputs": [
    {
     "name": "stdout",
     "output_type": "stream",
     "text": [
      "All numbers : [ 2  3  4  5  6  7  8  9 10 11 12 13 14 15 16 17 18 19 20 21 22 23 24 25\n",
      " 26 27 28 29 30 31 32 33 34 35 36 37 38 39 40 41 42 43 44 45 46 47 48 49\n",
      " 50 51 52 53 54 55 56 57 58 59 60 61 62 63 64 65 66 67 68 69 70 71 72 73\n",
      " 74 75 76 77 78 79 80 81 82 83 84 85 86 87 88 89 90 91 92 93 94 95 96 97\n",
      " 98 99] \n",
      "\n",
      "Prod: I don't know the numbers : [12, 16, 18, 20, 24, 28, 30, 32, 36, 40, 42, 44, 45, 48, 50, 52, 54, 56, 60, 63, 64, 66, 68, 70, 72, 75, 76, 78, 80, 81, 84, 88, 90, 92, 96, 98] \n",
      "\n",
      "Sum: I know it : [11, 17] \n",
      "\n",
      "Prod: Then I know the numbers : [18, 24, 28, 30, 42, 52, 60, 66, 70, 72] \n",
      "\n",
      "Sum: Then I know the numbers too : [14, 35, 38]\n"
     ]
    }
   ],
   "source": [
    "import numpy as np\n",
    "\n",
    "# Initializing lists\n",
    "all_numbers = np.arange(2,100)\n",
    "\n",
    "first_number = [1]\n",
    "\n",
    "last_number = [100]\n",
    "\n",
    "numbers_prod_idk = list([12,16,18,20,24,28,30,32,36,40,\n",
    "                         42,44,45,48,50,52,54,56,60,63,\n",
    "                         64,66,68,70,72,75,76,78,80,81,\n",
    "                         84,88,90,92,96,98\n",
    "                        ])\n",
    "\n",
    "\n",
    "numbers_sum_ik = list([11,17])\n",
    "\n",
    "\n",
    "numbers_prod_ik = list([18,24,28,30,42,52,60,66,70,72])\n",
    "\n",
    "\n",
    "numbers_sum_ikt = list([14,35,38])\n",
    "\n",
    " \n",
    "# Checking if numbers 1 and 100 exists in lists\n",
    "def final_result():\n",
    "    if first_number not in numbers_prod_idk or last_number not in numbers_prod_idk:\n",
    "        if first_number not in numbers_sum_ik or last_number not in numbers_sum_ik:\n",
    "            if first_number not in numbers_prod_ik or last_number not in numbers_prod_ik:\n",
    "                if first_number not in numbers_sum_ikt or last_number not in numbers_sum_ikt:\n",
    "                    print(\"Prod: I don't know the numbers :\",numbers_prod_idk,\"\\n\")\n",
    "                    print(\"Sum: I know it :\",numbers_sum_ik,\"\\n\")\n",
    "                    print(\"Prod: Then I know the numbers :\",numbers_prod_ik,\"\\n\")\n",
    "                    print(\"Sum: Then I know the numbers too :\",numbers_sum_ikt)\n",
    "                    \n",
    "print(\"All numbers :\",all_numbers,\"\\n\")        \n",
    "final_result()"
   ]
  }
 ],
 "metadata": {
  "kernelspec": {
   "display_name": "Python 3 (ipykernel)",
   "language": "python",
   "name": "python3"
  },
  "language_info": {
   "codemirror_mode": {
    "name": "ipython",
    "version": 3
   },
   "file_extension": ".py",
   "mimetype": "text/x-python",
   "name": "python",
   "nbconvert_exporter": "python",
   "pygments_lexer": "ipython3",
   "version": "3.7.1"
  }
 },
 "nbformat": 4,
 "nbformat_minor": 5
}
